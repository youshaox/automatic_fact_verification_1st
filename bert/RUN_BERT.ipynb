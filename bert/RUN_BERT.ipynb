{
 "cells": [
  {
   "cell_type": "code",
   "execution_count": null,
   "metadata": {},
   "outputs": [],
   "source": [
    "# you have to specify your own datadir, output_dir, and download the initial checkpoint from https://github.com/google-research/bert.git.\n",
    "# Only the training data, devset and test data requires to preprocess to feed into the model.\n",
    "\n",
    "# 1. Sentence selection\n",
    "## training\n",
    "!python3 run_classifier.py --task_name=sen   --do_train=true  --data_dir=gs://codelab-usa/input/sentence/all/training  --vocab_file=gs://codelab-usa/data/bert/vocab.txt   --bert_config_file=gs://codelab-usa/data/bert/bert_config.json    --init_checkpoint=gs://codelab-usa/data/bert/bert_model.ckpt   --max_seq_length=128   --train_batch_size=24   --learning_rate=2e-5   --num_train_epochs=3.0   --output_dir=gs://codelab-usa/trained_model/final_sentence_selection\n",
    "\n",
    "## prediction\n",
    "!python3 run_classifier.py --task_name=sen   --do_train=true  --data_dir=gs://codelab-usa/input/sentence/final  --vocab_file=gs://codelab-usa/data/bert/vocab.txt   --bert_config_file=gs://codelab-usa/data/bert/bert_config.json    --init_checkpoint=gs://codelab-usa/trained_model/final_sentence_selection   --max_seq_length=128   --train_batch_size=24   --learning_rate=2e-5   --num_train_epochs=3.0   --output_dir= gs://codelab-usa/output/sentence/final\n",
    "\n",
    "# 2. classification\n",
    "## training\n",
    "!python3 run_classifier.py --task_name=fever   --do_train=true  --data_dir=gs://codelab-usa/input/add_nei_filtered_by_model  --vocab_file=gs://codelab-usa/data/bert/vocab.txt   --bert_config_file=gs://codelab-usa/data/bert/bert_config.json    --init_checkpoint=gs://codelab-usa/data/bert/bert_model.ckpt   --max_seq_length=384   --train_batch_size=24   --learning_rate=3e-5   --num_train_epochs=3.0   --output_dir=gs://codelab-usa/trained_model/add_nei_filtered_by_model\n",
    "\n",
    "## prediction\n",
    "!python3 run_classifier.py --task_name=fever --do_predict=true --data_dir=gs://codelab-usa/input/classification/devset --vocab_file=gs://codelab-fever/data/bert/vocab.txt --bert_config_file=gs://codelab-fever/data/bert/bert_config.json --init_checkpoint=gs://codelab-usa/trained_model/filtered_by_model_classification --max_seq_length=128 --output_dir=gs://codelab-usa/output/classification/filtered_by_model\n"
   ]
  }
 ],
 "metadata": {
  "kernelspec": {
   "display_name": "Python 3",
   "language": "python",
   "name": "python3"
  },
  "language_info": {
   "codemirror_mode": {
    "name": "ipython",
    "version": 3
   },
   "file_extension": ".py",
   "mimetype": "text/x-python",
   "name": "python",
   "nbconvert_exporter": "python",
   "pygments_lexer": "ipython3",
   "version": "3.6.8"
  }
 },
 "nbformat": 4,
 "nbformat_minor": 2
}
